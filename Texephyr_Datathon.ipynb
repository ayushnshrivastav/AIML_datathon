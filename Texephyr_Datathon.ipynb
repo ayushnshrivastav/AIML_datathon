{
  "cells": [
    {
      "cell_type": "code",
      "execution_count": null,
      "metadata": {
        "id": "OI6tSrPkIlEz"
      },
      "outputs": [],
      "source": [
        "import pandas as pd\n",
        "#import train and test data from D:\\MIT\\Texephyr\\datasets\n",
        "from sklearn import preprocessing\n",
        "from sklearn.preprocessing import MinMaxScaler\n",
        "from sklearn.preprocessing import StandardScaler\n",
        "import seaborn as sns\n",
        "import numpy as np\n",
        "\n"
      ]
    },
    {
      "cell_type": "code",
      "execution_count": null,
      "metadata": {
        "colab": {
          "base_uri": "https://localhost:8080/",
          "height": 456
        },
        "id": "RILL4kcnJz_d",
        "outputId": "1f92194a-ecac-4281-9813-39084dc306a5"
      },
      "outputs": [
        {
          "data": {
            "text/html": [
              "\n",
              "  <div id=\"df-45aec4e2-e8a2-413c-8b99-5bd81bde3f0d\">\n",
              "    <div class=\"colab-df-container\">\n",
              "      <div>\n",
              "<style scoped>\n",
              "    .dataframe tbody tr th:only-of-type {\n",
              "        vertical-align: middle;\n",
              "    }\n",
              "\n",
              "    .dataframe tbody tr th {\n",
              "        vertical-align: top;\n",
              "    }\n",
              "\n",
              "    .dataframe thead th {\n",
              "        text-align: right;\n",
              "    }\n",
              "</style>\n",
              "<table border=\"1\" class=\"dataframe\">\n",
              "  <thead>\n",
              "    <tr style=\"text-align: right;\">\n",
              "      <th></th>\n",
              "      <th>Target</th>\n",
              "      <th>13</th>\n",
              "      <th>41</th>\n",
              "      <th>63</th>\n",
              "      <th>69</th>\n",
              "      <th>22</th>\n",
              "      <th>112</th>\n",
              "      <th>89</th>\n",
              "      <th>94</th>\n",
              "      <th>58</th>\n",
              "      <th>...</th>\n",
              "      <th>2</th>\n",
              "      <th>20</th>\n",
              "      <th>38</th>\n",
              "      <th>95</th>\n",
              "      <th>53</th>\n",
              "      <th>109</th>\n",
              "      <th>73</th>\n",
              "      <th>10</th>\n",
              "      <th>29</th>\n",
              "      <th>114</th>\n",
              "    </tr>\n",
              "  </thead>\n",
              "  <tbody>\n",
              "    <tr>\n",
              "      <th>101739</th>\n",
              "      <td>5</td>\n",
              "      <td>38.0</td>\n",
              "      <td>20</td>\n",
              "      <td>0</td>\n",
              "      <td>38</td>\n",
              "      <td>1.788920e+05</td>\n",
              "      <td>76.566618</td>\n",
              "      <td>-319</td>\n",
              "      <td>-45</td>\n",
              "      <td>118.500000</td>\n",
              "      <td>...</td>\n",
              "      <td>60782</td>\n",
              "      <td>1112.403014</td>\n",
              "      <td>0</td>\n",
              "      <td>3</td>\n",
              "      <td>0</td>\n",
              "      <td>65.988975</td>\n",
              "      <td>-1</td>\n",
              "      <td>38.0</td>\n",
              "      <td>0.0</td>\n",
              "      <td>32.42317</td>\n",
              "    </tr>\n",
              "    <tr>\n",
              "      <th>104441</th>\n",
              "      <td>5</td>\n",
              "      <td>2.0</td>\n",
              "      <td>84</td>\n",
              "      <td>0</td>\n",
              "      <td>53</td>\n",
              "      <td>1.189085e+05</td>\n",
              "      <td>76.566618</td>\n",
              "      <td>-92</td>\n",
              "      <td>-85</td>\n",
              "      <td>7.857143</td>\n",
              "      <td>...</td>\n",
              "      <td>443</td>\n",
              "      <td>74.286812</td>\n",
              "      <td>0</td>\n",
              "      <td>202</td>\n",
              "      <td>1</td>\n",
              "      <td>65.988975</td>\n",
              "      <td>7480</td>\n",
              "      <td>53.0</td>\n",
              "      <td>299749.0</td>\n",
              "      <td>32.42317</td>\n",
              "    </tr>\n",
              "    <tr>\n",
              "      <th>70681</th>\n",
              "      <td>5</td>\n",
              "      <td>0.0</td>\n",
              "      <td>108</td>\n",
              "      <td>0</td>\n",
              "      <td>0</td>\n",
              "      <td>1.042007e+06</td>\n",
              "      <td>76.566618</td>\n",
              "      <td>-234</td>\n",
              "      <td>312</td>\n",
              "      <td>0.000000</td>\n",
              "      <td>...</td>\n",
              "      <td>443</td>\n",
              "      <td>0.000000</td>\n",
              "      <td>0</td>\n",
              "      <td>301</td>\n",
              "      <td>1</td>\n",
              "      <td>65.988975</td>\n",
              "      <td>1595</td>\n",
              "      <td>0.0</td>\n",
              "      <td>0.0</td>\n",
              "      <td>32.42317</td>\n",
              "    </tr>\n",
              "    <tr>\n",
              "      <th>101475</th>\n",
              "      <td>4</td>\n",
              "      <td>0.0</td>\n",
              "      <td>0</td>\n",
              "      <td>0</td>\n",
              "      <td>0</td>\n",
              "      <td>3.486800e+04</td>\n",
              "      <td>76.566618</td>\n",
              "      <td>143</td>\n",
              "      <td>-57</td>\n",
              "      <td>0.000000</td>\n",
              "      <td>...</td>\n",
              "      <td>32833</td>\n",
              "      <td>0.000000</td>\n",
              "      <td>0</td>\n",
              "      <td>198</td>\n",
              "      <td>1</td>\n",
              "      <td>65.988975</td>\n",
              "      <td>-1</td>\n",
              "      <td>0.0</td>\n",
              "      <td>34868.0</td>\n",
              "      <td>32.42317</td>\n",
              "    </tr>\n",
              "    <tr>\n",
              "      <th>69703</th>\n",
              "      <td>2</td>\n",
              "      <td>0.0</td>\n",
              "      <td>20</td>\n",
              "      <td>0</td>\n",
              "      <td>0</td>\n",
              "      <td>8.120500e+04</td>\n",
              "      <td>76.566618</td>\n",
              "      <td>-119</td>\n",
              "      <td>-197</td>\n",
              "      <td>0.000000</td>\n",
              "      <td>...</td>\n",
              "      <td>39349</td>\n",
              "      <td>0.000000</td>\n",
              "      <td>0</td>\n",
              "      <td>-113</td>\n",
              "      <td>0</td>\n",
              "      <td>65.988975</td>\n",
              "      <td>0</td>\n",
              "      <td>0.0</td>\n",
              "      <td>0.0</td>\n",
              "      <td>32.42317</td>\n",
              "    </tr>\n",
              "    <tr>\n",
              "      <th>78749</th>\n",
              "      <td>5</td>\n",
              "      <td>0.0</td>\n",
              "      <td>112</td>\n",
              "      <td>0</td>\n",
              "      <td>372</td>\n",
              "      <td>1.166601e+06</td>\n",
              "      <td>76.566618</td>\n",
              "      <td>-140</td>\n",
              "      <td>-475</td>\n",
              "      <td>267.900000</td>\n",
              "      <td>...</td>\n",
              "      <td>48508</td>\n",
              "      <td>255.157243</td>\n",
              "      <td>0</td>\n",
              "      <td>185</td>\n",
              "      <td>0</td>\n",
              "      <td>65.988975</td>\n",
              "      <td>511</td>\n",
              "      <td>372.0</td>\n",
              "      <td>261937.0</td>\n",
              "      <td>32.42317</td>\n",
              "    </tr>\n",
              "    <tr>\n",
              "      <th>35577</th>\n",
              "      <td>1</td>\n",
              "      <td>39.0</td>\n",
              "      <td>32</td>\n",
              "      <td>0</td>\n",
              "      <td>39</td>\n",
              "      <td>2.396930e+05</td>\n",
              "      <td>76.566618</td>\n",
              "      <td>-105</td>\n",
              "      <td>-386</td>\n",
              "      <td>90.500000</td>\n",
              "      <td>...</td>\n",
              "      <td>54864</td>\n",
              "      <td>592.424476</td>\n",
              "      <td>0</td>\n",
              "      <td>-320</td>\n",
              "      <td>0</td>\n",
              "      <td>65.988975</td>\n",
              "      <td>-1</td>\n",
              "      <td>39.0</td>\n",
              "      <td>0.0</td>\n",
              "      <td>32.42317</td>\n",
              "    </tr>\n",
              "    <tr>\n",
              "      <th>124293</th>\n",
              "      <td>3</td>\n",
              "      <td>0.0</td>\n",
              "      <td>32</td>\n",
              "      <td>0</td>\n",
              "      <td>0</td>\n",
              "      <td>5.150568e+06</td>\n",
              "      <td>76.566618</td>\n",
              "      <td>-16</td>\n",
              "      <td>320</td>\n",
              "      <td>0.000000</td>\n",
              "      <td>...</td>\n",
              "      <td>47450</td>\n",
              "      <td>0.000000</td>\n",
              "      <td>0</td>\n",
              "      <td>170</td>\n",
              "      <td>0</td>\n",
              "      <td>65.988975</td>\n",
              "      <td>14600</td>\n",
              "      <td>0.0</td>\n",
              "      <td>15215522.0</td>\n",
              "      <td>32.42317</td>\n",
              "    </tr>\n",
              "    <tr>\n",
              "      <th>58923</th>\n",
              "      <td>5</td>\n",
              "      <td>0.0</td>\n",
              "      <td>32</td>\n",
              "      <td>0</td>\n",
              "      <td>0</td>\n",
              "      <td>3.509000e+03</td>\n",
              "      <td>76.566618</td>\n",
              "      <td>-20</td>\n",
              "      <td>178</td>\n",
              "      <td>0.000000</td>\n",
              "      <td>...</td>\n",
              "      <td>80</td>\n",
              "      <td>0.000000</td>\n",
              "      <td>0</td>\n",
              "      <td>-10</td>\n",
              "      <td>1</td>\n",
              "      <td>65.988975</td>\n",
              "      <td>1369</td>\n",
              "      <td>0.0</td>\n",
              "      <td>0.0</td>\n",
              "      <td>32.42317</td>\n",
              "    </tr>\n",
              "    <tr>\n",
              "      <th>69676</th>\n",
              "      <td>4</td>\n",
              "      <td>0.0</td>\n",
              "      <td>0</td>\n",
              "      <td>0</td>\n",
              "      <td>0</td>\n",
              "      <td>8.979410e+06</td>\n",
              "      <td>76.566618</td>\n",
              "      <td>-405</td>\n",
              "      <td>-226</td>\n",
              "      <td>0.000000</td>\n",
              "      <td>...</td>\n",
              "      <td>59790</td>\n",
              "      <td>0.000000</td>\n",
              "      <td>0</td>\n",
              "      <td>-57</td>\n",
              "      <td>1</td>\n",
              "      <td>65.988975</td>\n",
              "      <td>-1</td>\n",
              "      <td>0.0</td>\n",
              "      <td>8979410.0</td>\n",
              "      <td>32.42317</td>\n",
              "    </tr>\n",
              "  </tbody>\n",
              "</table>\n",
              "<p>10 rows × 115 columns</p>\n",
              "</div>\n",
              "      <button class=\"colab-df-convert\" onclick=\"convertToInteractive('df-45aec4e2-e8a2-413c-8b99-5bd81bde3f0d')\"\n",
              "              title=\"Convert this dataframe to an interactive table.\"\n",
              "              style=\"display:none;\">\n",
              "        \n",
              "  <svg xmlns=\"http://www.w3.org/2000/svg\" height=\"24px\"viewBox=\"0 0 24 24\"\n",
              "       width=\"24px\">\n",
              "    <path d=\"M0 0h24v24H0V0z\" fill=\"none\"/>\n",
              "    <path d=\"M18.56 5.44l.94 2.06.94-2.06 2.06-.94-2.06-.94-.94-2.06-.94 2.06-2.06.94zm-11 1L8.5 8.5l.94-2.06 2.06-.94-2.06-.94L8.5 2.5l-.94 2.06-2.06.94zm10 10l.94 2.06.94-2.06 2.06-.94-2.06-.94-.94-2.06-.94 2.06-2.06.94z\"/><path d=\"M17.41 7.96l-1.37-1.37c-.4-.4-.92-.59-1.43-.59-.52 0-1.04.2-1.43.59L10.3 9.45l-7.72 7.72c-.78.78-.78 2.05 0 2.83L4 21.41c.39.39.9.59 1.41.59.51 0 1.02-.2 1.41-.59l7.78-7.78 2.81-2.81c.8-.78.8-2.07 0-2.86zM5.41 20L4 18.59l7.72-7.72 1.47 1.35L5.41 20z\"/>\n",
              "  </svg>\n",
              "      </button>\n",
              "      \n",
              "  <style>\n",
              "    .colab-df-container {\n",
              "      display:flex;\n",
              "      flex-wrap:wrap;\n",
              "      gap: 12px;\n",
              "    }\n",
              "\n",
              "    .colab-df-convert {\n",
              "      background-color: #E8F0FE;\n",
              "      border: none;\n",
              "      border-radius: 50%;\n",
              "      cursor: pointer;\n",
              "      display: none;\n",
              "      fill: #1967D2;\n",
              "      height: 32px;\n",
              "      padding: 0 0 0 0;\n",
              "      width: 32px;\n",
              "    }\n",
              "\n",
              "    .colab-df-convert:hover {\n",
              "      background-color: #E2EBFA;\n",
              "      box-shadow: 0px 1px 2px rgba(60, 64, 67, 0.3), 0px 1px 3px 1px rgba(60, 64, 67, 0.15);\n",
              "      fill: #174EA6;\n",
              "    }\n",
              "\n",
              "    [theme=dark] .colab-df-convert {\n",
              "      background-color: #3B4455;\n",
              "      fill: #D2E3FC;\n",
              "    }\n",
              "\n",
              "    [theme=dark] .colab-df-convert:hover {\n",
              "      background-color: #434B5C;\n",
              "      box-shadow: 0px 1px 3px 1px rgba(0, 0, 0, 0.15);\n",
              "      filter: drop-shadow(0px 1px 2px rgba(0, 0, 0, 0.3));\n",
              "      fill: #FFFFFF;\n",
              "    }\n",
              "  </style>\n",
              "\n",
              "      <script>\n",
              "        const buttonEl =\n",
              "          document.querySelector('#df-45aec4e2-e8a2-413c-8b99-5bd81bde3f0d button.colab-df-convert');\n",
              "        buttonEl.style.display =\n",
              "          google.colab.kernel.accessAllowed ? 'block' : 'none';\n",
              "\n",
              "        async function convertToInteractive(key) {\n",
              "          const element = document.querySelector('#df-45aec4e2-e8a2-413c-8b99-5bd81bde3f0d');\n",
              "          const dataTable =\n",
              "            await google.colab.kernel.invokeFunction('convertToInteractive',\n",
              "                                                     [key], {});\n",
              "          if (!dataTable) return;\n",
              "\n",
              "          const docLinkHtml = 'Like what you see? Visit the ' +\n",
              "            '<a target=\"_blank\" href=https://colab.research.google.com/notebooks/data_table.ipynb>data table notebook</a>'\n",
              "            + ' to learn more about interactive tables.';\n",
              "          element.innerHTML = '';\n",
              "          dataTable['output_type'] = 'display_data';\n",
              "          await google.colab.output.renderOutput(dataTable, element);\n",
              "          const docLink = document.createElement('div');\n",
              "          docLink.innerHTML = docLinkHtml;\n",
              "          element.appendChild(docLink);\n",
              "        }\n",
              "      </script>\n",
              "    </div>\n",
              "  </div>\n",
              "  "
            ],
            "text/plain": [
              "        Target    13   41  63   69            22        112   89   94  \\\n",
              "101739       5  38.0   20   0   38  1.788920e+05  76.566618 -319  -45   \n",
              "104441       5   2.0   84   0   53  1.189085e+05  76.566618  -92  -85   \n",
              "70681        5   0.0  108   0    0  1.042007e+06  76.566618 -234  312   \n",
              "101475       4   0.0    0   0    0  3.486800e+04  76.566618  143  -57   \n",
              "69703        2   0.0   20   0    0  8.120500e+04  76.566618 -119 -197   \n",
              "78749        5   0.0  112   0  372  1.166601e+06  76.566618 -140 -475   \n",
              "35577        1  39.0   32   0   39  2.396930e+05  76.566618 -105 -386   \n",
              "124293       3   0.0   32   0    0  5.150568e+06  76.566618  -16  320   \n",
              "58923        5   0.0   32   0    0  3.509000e+03  76.566618  -20  178   \n",
              "69676        4   0.0    0   0    0  8.979410e+06  76.566618 -405 -226   \n",
              "\n",
              "                58  ...      2           20  38   95  53        109     73  \\\n",
              "101739  118.500000  ...  60782  1112.403014   0    3   0  65.988975     -1   \n",
              "104441    7.857143  ...    443    74.286812   0  202   1  65.988975   7480   \n",
              "70681     0.000000  ...    443     0.000000   0  301   1  65.988975   1595   \n",
              "101475    0.000000  ...  32833     0.000000   0  198   1  65.988975     -1   \n",
              "69703     0.000000  ...  39349     0.000000   0 -113   0  65.988975      0   \n",
              "78749   267.900000  ...  48508   255.157243   0  185   0  65.988975    511   \n",
              "35577    90.500000  ...  54864   592.424476   0 -320   0  65.988975     -1   \n",
              "124293    0.000000  ...  47450     0.000000   0  170   0  65.988975  14600   \n",
              "58923     0.000000  ...     80     0.000000   0  -10   1  65.988975   1369   \n",
              "69676     0.000000  ...  59790     0.000000   0  -57   1  65.988975     -1   \n",
              "\n",
              "           10          29       114  \n",
              "101739   38.0         0.0  32.42317  \n",
              "104441   53.0    299749.0  32.42317  \n",
              "70681     0.0         0.0  32.42317  \n",
              "101475    0.0     34868.0  32.42317  \n",
              "69703     0.0         0.0  32.42317  \n",
              "78749   372.0    261937.0  32.42317  \n",
              "35577    39.0         0.0  32.42317  \n",
              "124293    0.0  15215522.0  32.42317  \n",
              "58923     0.0         0.0  32.42317  \n",
              "69676     0.0   8979410.0  32.42317  \n",
              "\n",
              "[10 rows x 115 columns]"
            ]
          },
          "execution_count": 57,
          "metadata": {},
          "output_type": "execute_result"
        }
      ],
      "source": [
        "df=pd.read_csv('train.csv')\n",
        "\n",
        "df_copy=df.copy()\n",
        "\n",
        "\n",
        "#Y_pred=pd.read_csv('test.csv')\n",
        "\n",
        "#Y_pred.drop('6',1)\n",
        "\n",
        "#df=df.drop('6',1)\n",
        "\n",
        "df.sample(10)"
      ]
    },
    {
      "cell_type": "code",
      "execution_count": null,
      "metadata": {
        "colab": {
          "base_uri": "https://localhost:8080/"
        },
        "id": "mybSU3c3KT7a",
        "outputId": "825a2cae-c966-45bf-9290-07215984eac0"
      },
      "outputs": [
        {
          "name": "stdout",
          "output_type": "stream",
          "text": [
            "(138047, 115)\n",
            "0\n"
          ]
        },
        {
          "data": {
            "text/plain": [
              "28905405.0"
            ]
          },
          "execution_count": 58,
          "metadata": {},
          "output_type": "execute_result"
        }
      ],
      "source": [
        "#preproccesing:\n",
        "print(df.shape)\n",
        "\n",
        "#nulls:\n",
        "print(df.isna().sum().sum())\n",
        "\n",
        "df['22'][0]"
      ]
    },
    {
      "cell_type": "code",
      "execution_count": null,
      "metadata": {
        "colab": {
          "base_uri": "https://localhost:8080/"
        },
        "id": "IkLwC1YKbM63",
        "outputId": "663e5c20-043f-4052-d08b-80023e9d1260"
      },
      "outputs": [
        {
          "data": {
            "text/plain": [
              "Target    126781\n",
              "13         37398\n",
              "41         98841\n",
              "63             0\n",
              "69         78408\n",
              "           ...  \n",
              "109       138047\n",
              "73        135704\n",
              "10         78408\n",
              "29         90664\n",
              "114       138047\n",
              "Length: 115, dtype: int64"
            ]
          },
          "execution_count": 59,
          "metadata": {},
          "output_type": "execute_result"
        }
      ],
      "source": [
        "df.astype(bool).sum(axis=0)"
      ]
    },
    {
      "cell_type": "code",
      "execution_count": null,
      "metadata": {
        "id": "qw7DEJIkfgfh"
      },
      "outputs": [],
      "source": [
        "#encoding\n",
        "label_encoder = preprocessing.LabelEncoder()\n",
        " \n",
        "# Encode labels in column 'species'.\n",
        "df['0']= label_encoder.fit_transform(df['0'])\n",
        "df['1']= label_encoder.fit_transform(df['1'])\n",
        "df['3']= label_encoder.fit_transform(df['3'])\n",
        "df['6']= label_encoder.fit_transform(df['6'])\n",
        "\n",
        "#df of ##### to be converted maybe\n",
        "\n",
        "\n",
        "#Y_pred['0']= label_encoder.fit_transform(Y_pred['0'])\n",
        "#Y_pred['1']= label_encoder.fit_transform(Y_pred['1'])\n",
        "#Y_pred['3']= label_encoder.fit_transform(Y_pred['3'])\n",
        "\n"
      ]
    },
    {
      "cell_type": "code",
      "execution_count": null,
      "metadata": {
        "colab": {
          "base_uri": "https://localhost:8080/",
          "height": 307
        },
        "id": "vf0DczJ2UZUZ",
        "outputId": "6e562867-d929-4b7d-f207-e33065755eb9"
      },
      "outputs": [
        {
          "data": {
            "text/plain": [
              "<matplotlib.axes._subplots.AxesSubplot at 0x7f4f263bff50>"
            ]
          },
          "execution_count": 61,
          "metadata": {},
          "output_type": "execute_result"
        },
        {
          "data": {
            "image/png": "[encoded data removed]",
            "text/plain": [
              "<Figure size 432x288 with 2 Axes>"
            ]
          },
          "metadata": {},
          "output_type": "display_data"
        }
      ],
      "source": [
        "#feature selection:\n",
        "from sklearn.feature_selection import SelectKBest, chi2\n",
        "from sklearn.feature_selection import f_classif\n",
        "\n",
        "#!pip install skfeature-chappers\n",
        "##############################couldnt work w fisher because not enough ram provided by colab!###############\n",
        "\n",
        "\n",
        "#from skfeature.function.similarity_based import fisher_score\n",
        "#score = fisher_score.fisher_score(X_train, y_train)\n",
        "\n",
        "#print(score)\n",
        "\n",
        "#idx = fisher_score.feature_ranking(score)\n",
        "#print(idx)\n",
        "\n",
        "#num_fea =10\n",
        "#selected_features_train = X_train[:, idx[0:num_fea]]\n",
        "#selected_features_test = X_test[:, idx[0:num_fea]]\n",
        "\n",
        "#coorelation:\n",
        "corr = df.corr()\n",
        "\n",
        "\n",
        "sns.heatmap(corr)\n"
      ]
    },
    {
      "cell_type": "code",
      "execution_count": null,
      "metadata": {
        "colab": {
          "base_uri": "https://localhost:8080/"
        },
        "id": "As1myNM4b9hf",
        "outputId": "e3998b59-72f6-4890-f485-e8155e939edb"
      },
      "outputs": [
        {
          "data": {
            "text/plain": [
              "(138047, 89)"
            ]
          },
          "execution_count": 62,
          "metadata": {},
          "output_type": "execute_result"
        }
      ],
      "source": [
        "columns = np.full((corr.shape[0],), True, dtype=bool)\n",
        "for i in range(corr.shape[0]):\n",
        "    for j in range(i+1, corr.shape[0]):\n",
        "        if corr.iloc[i,j] >= 0.92:\n",
        "            if columns[j]:\n",
        "                columns[j] = False\n",
        "selected_columns = df.columns[columns]\n",
        "\n",
        "df = df[selected_columns]\n",
        "df.shape"
      ]
    },
    {
      "cell_type": "code",
      "execution_count": null,
      "metadata": {
        "colab": {
          "base_uri": "https://localhost:8080/"
        },
        "id": "RuC1FS-wX0qg",
        "outputId": "2a0cd71e-6975-4086-98d4-06317d354483"
      },
      "outputs": [
        {
          "name": "stderr",
          "output_type": "stream",
          "text": [
            "/usr/local/lib/python3.7/dist-packages/ipykernel_launcher.py:1: FutureWarning: In a future version of pandas all arguments of DataFrame.drop except for the argument 'labels' will be keyword-only\n",
            "  \"\"\"Entry point for launching an IPython kernel.\n"
          ]
        }
      ],
      "source": [
        "X= df.drop('Target',1).values\n",
        "Y=df['Target'].values\n",
        "from sklearn.model_selection import train_test_split #method to split training and testing data sets\n",
        "X_train, X_test, y_train, y_test=train_test_split(X, Y, test_size=0.03, random_state=42, stratify=Y)"
      ]
    },
    {
      "cell_type": "code",
      "execution_count": null,
      "metadata": {
        "colab": {
          "base_uri": "https://localhost:8080/"
        },
        "id": "OMK2UeYwaLvU",
        "outputId": "6e8e37c0-e9b9-4294-b9e9-8a1ad9559d75"
      },
      "outputs": [
        {
          "data": {
            "text/plain": [
              "Target      int64\n",
              "13        float64\n",
              "41          int64\n",
              "63          int64\n",
              "69          int64\n",
              "           ...   \n",
              "95          int64\n",
              "53          int64\n",
              "109       float64\n",
              "73          int64\n",
              "114       float64\n",
              "Length: 89, dtype: object"
            ]
          },
          "execution_count": 64,
          "metadata": {},
          "output_type": "execute_result"
        }
      ],
      "source": [
        "#label encoding because getting error: ValueError: could not convert string to float: '05/07/2017 10:45:41':\n",
        "df.dtypes"
      ]
    },
    {
      "cell_type": "code",
      "execution_count": null,
      "metadata": {
        "id": "Nu0segJmQsPx"
      },
      "outputs": [],
      "source": []
    },
    {
      "cell_type": "code",
      "execution_count": null,
      "metadata": {
        "colab": {
          "base_uri": "https://localhost:8080/"
        },
        "id": "lyl6mHZbaEiW",
        "outputId": "c4797cd9-6b25-4b1f-fce3-cec4676f2f0e"
      },
      "outputs": [
        {
          "data": {
            "text/plain": [
              "RandomForestClassifier(random_state=42)"
            ]
          },
          "execution_count": 84,
          "metadata": {},
          "output_type": "execute_result"
        }
      ],
      "source": [
        "#Random Forest\n",
        "from sklearn.ensemble import RandomForestClassifier\n",
        "model=RandomForestClassifier(n_estimators=100, random_state=42)\n",
        "model.fit(X_train,y_train)\n",
        "#95.65 w scaling, 95.82 w/0\n",
        "#1 min\n"
      ]
    },
    {
      "cell_type": "code",
      "execution_count": null,
      "metadata": {
        "colab": {
          "base_uri": "https://localhost:8080/"
        },
        "id": "UJIhbeABrcBY",
        "outputId": "02e7ce7c-0e5a-4710-f106-8efe1e1e3e7d"
      },
      "outputs": [
        {
          "name": "stdout",
          "output_type": "stream",
          "text": [
            "Accuracy: 0.9649927571221633\n"
          ]
        }
      ],
      "source": [
        "from sklearn.metrics import confusion_matrix\n",
        "from sklearn import metrics\n",
        "y_pred=model.predict(X_test)\n",
        "print(\"Accuracy:\",metrics.accuracy_score(y_test, y_pred)) #95.447 w/o feature selection\n",
        "#95.780 w \n",
        "#best 96.1466 with 0.05 test data and after removing features w correlation>=0.9\n",
        "#96.2335 w corr>=0.92, 0.03=96499"
      ]
    },
    {
      "cell_type": "markdown",
      "metadata": {
        "id": "SJ8_faI1RHFR"
      },
      "source": [
        "# Hyperparameter tuning\n"
      ]
    },
    {
      "cell_type": "code",
      "execution_count": null,
      "metadata": {
        "id": "pRlf3gsZQ_X3"
      },
      "outputs": [],
      "source": [
        "from sklearn.ensemble import RandomForestClassifier\n",
        "\n",
        "model = RandomForestClassifier(n_estimators=100, criterion='gini', min_samples_split=5, min_samples_leaf=4, max_features='auto', bootstrap=True, n_jobs=-1, random_state=42)\n",
        "model.fit(X_train,y_train)\n",
        "y_pred = model.predict(X_test)"
      ]
    },
    {
      "cell_type": "code",
      "execution_count": null,
      "metadata": {
        "colab": {
          "base_uri": "https://localhost:8080/"
        },
        "id": "6orj67KQRaDS",
        "outputId": "ec7f8fd2-a2fc-42e4-d6e0-0acf292ce45d"
      },
      "outputs": [
        {
          "name": "stdout",
          "output_type": "stream",
          "text": [
            "[[ 283    0    1   54    0    0]\n",
            " [   0  354    1    0   11    0]\n",
            " [   0    0  350    0    0    0]\n",
            " [  89    0    7  197    0    0]\n",
            " [   0    1    0    0  284    0]\n",
            " [   0    0    0    0    0 2510]]\n",
            "0.9604056011588604\n"
          ]
        }
      ],
      "source": [
        "from sklearn.metrics import confusion_matrix\n",
        "print(confusion_matrix(y_test, y_pred))\n",
        "from sklearn import metrics\n",
        "print(metrics.accuracy_score(y_test, y_pred))"
      ]
    },
    {
      "cell_type": "code",
      "execution_count": null,
      "metadata": {
        "colab": {
          "base_uri": "https://localhost:8080/"
        },
        "id": "uUOgZgc8RadB",
        "outputId": "2d0fe6d6-62f1-4ee5-c769-eb46baeffde2"
      },
      "outputs": [
        {
          "name": "stdout",
          "output_type": "stream",
          "text": [
            "{'n_estimators': [200, 400, 600, 800, 1000, 1200, 1400, 1600, 1800], 'max_features': ['auto', 'sqrt'], 'max_depth': [10, 20, 30, 40, 50, 60, 70, 80, 90, 100, 110, None], 'min_samples_split': [2, 5, 10], 'min_samples_leaf': [1, 2, 4], 'bootstrap': [True, False]}\n"
          ]
        }
      ],
      "source": [
        "from sklearn.model_selection import RandomizedSearchCV\n",
        "\n",
        "# Number of trees in random forest\n",
        "n_estimators = [int(x) for x in range(200,2000,200)]\n",
        "# Number of features to consider at every split\n",
        "max_features = ['auto', 'sqrt']\n",
        "# Maximum number of levels in tree\n",
        "max_depth = [int(x) for x in np.linspace(10, 110, num = 11)]\n",
        "max_depth.append(None)\n",
        "# Minimum number of samples required to split a node\n",
        "min_samples_split = [2, 5, 10]\n",
        "# Minimum number of samples required at each leaf node\n",
        "min_samples_leaf = [1, 2, 4]\n",
        "# Method of selecting samples for training each tree\n",
        "bootstrap = [True, False]\n",
        "# Create the random grid\n",
        "random_grid = {'n_estimators': n_estimators,\n",
        "               'max_features': max_features,\n",
        "               'max_depth': max_depth,\n",
        "               'min_samples_split': min_samples_split,\n",
        "               'min_samples_leaf': min_samples_leaf,\n",
        "               'bootstrap': bootstrap}\n",
        "print(random_grid)"
      ]
    },
    {
      "cell_type": "code",
      "execution_count": null,
      "metadata": {
        "id": "jFQJ6CsyRe4_"
      },
      "outputs": [],
      "source": [
        "# Use the random grid to search for best hyperparameters\n",
        "# First create the base model to tune\n",
        "rf = RandomForestClassifier()\n",
        "# Random search of parameters, using 3 fold cross validation, \n",
        "# search across 100 different combinations, and use all available cores\n",
        "rf_random = RandomizedSearchCV(estimator = rf, param_distributions = random_grid, n_iter = 10, cv = 3, verbose=2, random_state=42, n_jobs = -1)\n",
        "# Fit the random search model\n",
        "rf_random.fit(X_train, y_train)"
      ]
    },
    {
      "cell_type": "code",
      "execution_count": null,
      "metadata": {
        "id": "vyGg09VCScyp"
      },
      "outputs": [],
      "source": [
        "rf_random.best_params_"
      ]
    },
    {
      "cell_type": "code",
      "execution_count": null,
      "metadata": {
        "id": "fHdjX1EgSeb6"
      },
      "outputs": [],
      "source": [
        "from sklearn import metrics\n",
        "\n",
        "def evaluate(model, test_features, test_labels):\n",
        "    y_pred = model.predict(test_features)\n",
        "    accuracy = metrics.accuracy_score(y_test, y_pred)\n",
        "    print (accuracy)\n",
        "    print(confusion_matrix(y_test,y_pred))\n",
        "    \n",
        "\n",
        "best_random = rf_random.best_estimator_\n",
        "evaluate(best_random, X_test, y_test)"
      ]
    },
    {
      "cell_type": "code",
      "execution_count": null,
      "metadata": {
        "id": "vz5q1tNuRp-8"
      },
      "outputs": [],
      "source": [
        "from sklearn.model_selection import GridSearchCV\n",
        "\n",
        "# Create the parameter grid based on the results of random search \n",
        "param_grid = {\n",
        "    'bootstrap': [True],\n",
        "    'max_depth': [10,15],\n",
        "    'max_features': [2, 3],\n",
        "    'min_samples_leaf': [3, 4, 5,6],\n",
        "    'min_samples_split': [3,4,5,6],\n",
        "    'n_estimators': [1150, 1200, 1250, 1300,1350]\n",
        "}\n",
        "# Create a based model\n",
        "rf = RandomForestClassifier()\n",
        "# Instantiate the grid search model\n",
        "grid_search = GridSearchCV(estimator = rf, param_grid = param_grid, \n",
        "                          cv = 3, n_jobs = -1, verbose = 2)\n",
        "\n",
        "# Fit the grid search to the data\n",
        "grid_search.fit(X_train,y_train)"
      ]
    },
    {
      "cell_type": "code",
      "execution_count": null,
      "metadata": {
        "id": "J06ObQ8dRqfl"
      },
      "outputs": [],
      "source": [
        "grid_search.best_params_"
      ]
    },
    {
      "cell_type": "code",
      "execution_count": null,
      "metadata": {
        "id": "zMOL54YFRsMy"
      },
      "outputs": [],
      "source": [
        "best_grid = grid_search.best_estimator_\n",
        "evaluate(best_grid,X_test,y_test)"
      ]
    },
    {
      "cell_type": "code",
      "execution_count": null,
      "metadata": {
        "id": "vp5o4QHtRgVa"
      },
      "outputs": [],
      "source": [
        "rf_random.best_params_#best parameters"
      ]
    },
    {
      "cell_type": "code",
      "execution_count": null,
      "metadata": {
        "id": "lsbhUfyWRh7-"
      },
      "outputs": [],
      "source": [
        "from sklearn import metrics\n",
        "\n",
        "def evaluate(model, test_features, test_labels):\n",
        "    y_pred = model.predict(test_features)\n",
        "    accuracy = metrics.accuracy_score(y_test, y_pred)\n",
        "    print (accuracy)\n",
        "    print(confusion_matrix(y_test,y_pred))\n",
        "    \n",
        "\n",
        "best_random = rf_random.best_estimator_\n",
        "evaluate(best_random, X_test, y_test)"
      ]
    },
    {
      "cell_type": "code",
      "execution_count": null,
      "metadata": {
        "id": "eYrBaVLPrY53"
      },
      "outputs": [],
      "source": [
        "selected_columns2=[x for x in selected_columns if x!='Target']"
      ]
    },
    {
      "cell_type": "code",
      "execution_count": null,
      "metadata": {
        "colab": {
          "base_uri": "https://localhost:8080/"
        },
        "id": "8CeBissVnTLG",
        "outputId": "d3dbe9d4-12dc-4bc9-fe57-c77eb8e1feba"
      },
      "outputs": [
        {
          "data": {
            "text/plain": [
              "(138048, 88)"
            ]
          },
          "execution_count": 87,
          "metadata": {},
          "output_type": "execute_result"
        }
      ],
      "source": [
        "#saving the predicted values of test dataset provided by \n",
        "df_test=pd.read_csv('test.csv')\n",
        "df_test.head(10)\n",
        "\n",
        "#encoding\n",
        "label_encoder = preprocessing.LabelEncoder()\n",
        " \n",
        "# Encode labels in column 'species'.\n",
        "df_test['0']= label_encoder.fit_transform(df_test['0'])\n",
        "df_test['1']= label_encoder.fit_transform(df_test['1'])\n",
        "df_test['3']= label_encoder.fit_transform(df_test['3'])\n",
        "df_test['6']= label_encoder.fit_transform(df_test['6'])\n",
        "\n",
        "\n",
        "#change the columns/attributes:\n",
        "df_test=df_test[selected_columns2]\n",
        "\n",
        "df_test.shape"
      ]
    },
    {
      "cell_type": "code",
      "execution_count": null,
      "metadata": {
        "colab": {
          "base_uri": "https://localhost:8080/"
        },
        "id": "N5c2FZTr2duw",
        "outputId": "11669305-42bc-4af3-d868-9319282dbad2"
      },
      "outputs": [
        {
          "data": {
            "text/plain": [
              "array([0])"
            ]
          },
          "execution_count": 88,
          "metadata": {},
          "output_type": "execute_result"
        }
      ],
      "source": [
        "pred_val=model.predict([df_test.iloc[24]])\n",
        "pred_val"
      ]
    },
    {
      "cell_type": "code",
      "execution_count": null,
      "metadata": {
        "colab": {
          "background_save": true
        },
        "id": "W6vrrAVQoe_8"
      },
      "outputs": [],
      "source": [
        "#pred_val=model.predict([df_test.iloc[1100]])\n",
        "#pred_val\n",
        "df_test.iloc[0]\n",
        "\n",
        "predicted_values=[]\n",
        "\n",
        "for i in range(df_test.shape[0]):\n",
        "  pred_val=model.predict([df_test.iloc[i]])\n",
        "  predicted_values.append(pred_val)\n",
        "\n",
        "#29 mins"
      ]
    },
    {
      "cell_type": "code",
      "execution_count": null,
      "metadata": {
        "colab": {
          "background_save": true
        },
        "id": "ckjMitqt0p1p"
      },
      "outputs": [],
      "source": [
        "(pd.DataFrame(predicted_values)).to_csv('Ayush_Shrivastav_predictions.csv', index=False)\n",
        "pd.read_csv('Ayush_Shrivastav_ubmission2.csv').shape"
      ]
    },
    {
      "cell_type": "markdown",
      "metadata": {
        "id": "1UmqA4eKy7AO"
      },
      "source": [
        "### Naive Bayes:\n"
      ]
    },
    {
      "cell_type": "code",
      "execution_count": null,
      "metadata": {
        "colab": {
          "base_uri": "https://localhost:8080/",
          "height": 53
        },
        "id": "58R1nfmYxz16",
        "outputId": "86b1fefd-222d-4811-d0a3-ab469e9c3b69"
      },
      "outputs": [
        {
          "data": {
            "application/vnd.google.colaboratory.intrinsic+json": {
              "type": "string"
            },
            "text/plain": [
              "\"\\n\\n#preprocessing:\\n\\nX= df.drop('Target',1).values\\nY=df['Target'].values\\n\\n\\nscaler=MinMaxScaler()\\n\\nscaler.fit(X)\\nX=scaler.transform(X)\\n\""
            ]
          },
          "execution_count": 191,
          "metadata": {},
          "output_type": "execute_result"
        }
      ],
      "source": [
        "\"\"\"\n",
        "\n",
        "#preprocessing:\n",
        "\n",
        "X= df.drop('Target',1).values\n",
        "Y=df['Target'].values\n",
        "\n",
        "\n",
        "scaler=MinMaxScaler()\n",
        "\n",
        "scaler.fit(X)\n",
        "X=scaler.transform(X)\n",
        "\"\"\"\n"
      ]
    },
    {
      "cell_type": "code",
      "execution_count": null,
      "metadata": {
        "id": "nGXBDUax6BOU"
      },
      "outputs": [],
      "source": [
        "#df=pd.DataFrame(df).head()\n",
        "#df.columns=df_copy.columns"
      ]
    },
    {
      "cell_type": "code",
      "execution_count": null,
      "metadata": {
        "colab": {
          "base_uri": "https://localhost:8080/",
          "height": 88
        },
        "id": "GrX5O7ES0wCx",
        "outputId": "dba110a2-0b2e-42c1-d88d-dad6b31145ba"
      },
      "outputs": [
        {
          "data": {
            "application/vnd.google.colaboratory.intrinsic+json": {
              "type": "string"
            },
            "text/plain": [
              "'\\n\\n#for i in range(113):\\n#  if X_train[0][i]<0:\\n#    print(X_train[0][i])\\n\\n#splitting:\\n\\nfrom sklearn.model_selection import train_test_split #method to split training and testing data sets\\nX_train, X_test, y_train, y_test=train_test_split(X, Y, test_size=0.2, random_state=42, stratify=Y)\\n'"
            ]
          },
          "execution_count": 193,
          "metadata": {},
          "output_type": "execute_result"
        }
      ],
      "source": [
        "\"\"\"\n",
        "\n",
        "#for i in range(113):\n",
        "#  if X_train[0][i]<0:\n",
        "#    print(X_train[0][i])\n",
        "\n",
        "#splitting:\n",
        "\n",
        "from sklearn.model_selection import train_test_split #method to split training and testing data sets\n",
        "X_train, X_test, y_train, y_test=train_test_split(X, Y, test_size=0.2, random_state=42, stratify=Y)\n",
        "\"\"\""
      ]
    },
    {
      "cell_type": "code",
      "execution_count": null,
      "metadata": {
        "colab": {
          "base_uri": "https://localhost:8080/",
          "height": 70
        },
        "id": "v2P-SizS0q-x",
        "outputId": "ed5c35fb-d698-4778-d8b8-74aa95405f27"
      },
      "outputs": [
        {
          "data": {
            "application/vnd.google.colaboratory.intrinsic+json": {
              "type": "string"
            },
            "text/plain": [
              "'\\n\\nfrom sklearn.naive_bayes import MultinomialNB # smoothing is automatically applied\\nmodel=MultinomialNB()\\nmodel.fit(X_train, y_train)\\nscore=model.score(X_test, y_test)\\nprint(\"Accuracy:\", score) #60.59 \\n'"
            ]
          },
          "execution_count": 194,
          "metadata": {},
          "output_type": "execute_result"
        }
      ],
      "source": [
        "\"\"\"\n",
        "\n",
        "from sklearn.naive_bayes import MultinomialNB # smoothing is automatically applied\n",
        "model=MultinomialNB()\n",
        "model.fit(X_train, y_train)\n",
        "score=model.score(X_test, y_test)\n",
        "print(\"Accuracy:\", score) #60.59 \n",
        "\"\"\""
      ]
    },
    {
      "cell_type": "markdown",
      "metadata": {
        "id": "ZtG8BcVr-EBk"
      },
      "source": [
        "### Logistic Regression"
      ]
    },
    {
      "cell_type": "code",
      "execution_count": null,
      "metadata": {
        "colab": {
          "base_uri": "https://localhost:8080/",
          "height": 70
        },
        "id": "qLdl8lTy-CqO",
        "outputId": "1a06467f-a40c-4b04-82a9-9af7f550b765"
      },
      "outputs": [
        {
          "data": {
            "application/vnd.google.colaboratory.intrinsic+json": {
              "type": "string"
            },
            "text/plain": [
              "'\\nfrom sklearn.linear_model import LogisticRegression\\nmodel = LogisticRegression()\\nmodel.fit(X_train, y_train)\\nscore = model.score(X_test, y_test)\\nprint(\"Accuracy:\", score) #65.55\\n'"
            ]
          },
          "execution_count": 195,
          "metadata": {},
          "output_type": "execute_result"
        }
      ],
      "source": [
        "\"\"\"\n",
        "from sklearn.linear_model import LogisticRegression\n",
        "model = LogisticRegression()\n",
        "model.fit(X_train, y_train)\n",
        "score = model.score(X_test, y_test)\n",
        "print(\"Accuracy:\", score) #65.55\n",
        "\"\"\""
      ]
    },
    {
      "cell_type": "markdown",
      "metadata": {
        "id": "GmCz2NhY-zVE"
      },
      "source": [
        "### KNN\n"
      ]
    },
    {
      "cell_type": "code",
      "execution_count": null,
      "metadata": {
        "colab": {
          "base_uri": "https://localhost:8080/",
          "height": 122
        },
        "id": "UzZiXrJ5-qCO",
        "outputId": "61618ac5-1928-4eaa-d435-75f94fba148d"
      },
      "outputs": [
        {
          "data": {
            "application/vnd.google.colaboratory.intrinsic+json": {
              "type": "string"
            },
            "text/plain": [
              "'\\n\\nfrom sklearn.neighbors import KNeighborsClassifier # we import the K-Nearest Neighbor Classifier\\nneighbors=np.arange(1,30) #we will try different k - default step size is 1 - returns evenly spaced values within a given interval excl 20\\n\\ntrain_accuracy=np.empty(len(neighbors)) # creates an array that will be used for storing training accuracy\\ntest_accuracy=np.empty(len(neighbors))  # creates an array that will be used for storing testing accuracy\\n'"
            ]
          },
          "execution_count": 196,
          "metadata": {},
          "output_type": "execute_result"
        }
      ],
      "source": [
        "\"\"\"\n",
        "\n",
        "from sklearn.neighbors import KNeighborsClassifier # we import the K-Nearest Neighbor Classifier\n",
        "neighbors=np.arange(1,30) #we will try different k - default step size is 1 - returns evenly spaced values within a given interval excl 20\n",
        "\n",
        "train_accuracy=np.empty(len(neighbors)) # creates an array that will be used for storing training accuracy\n",
        "test_accuracy=np.empty(len(neighbors))  # creates an array that will be used for storing testing accuracy\n",
        "\"\"\""
      ]
    },
    {
      "cell_type": "code",
      "execution_count": null,
      "metadata": {
        "id": "jq2RpPes-4De"
      },
      "outputs": [],
      "source": [
        "#for i,k in enumerate(neighbors): #k goes from 1 to 19 en i is de counter\n",
        "#  knn=KNeighborsClassifier(n_neighbors=k)\n",
        "#  knn.fit(X_train, y_train)\n",
        "#  train_accuracy[i]=knn.score(X_train, y_train)\n",
        "#  test_accuracy[i]=knn.score(X_test, y_test)"
      ]
    },
    {
      "cell_type": "code",
      "execution_count": null,
      "metadata": {
        "colab": {
          "base_uri": "https://localhost:8080/",
          "height": 53
        },
        "id": "QqPmwrn1-7Lx",
        "outputId": "241be551-8bd8-42d8-fc1e-5f83f25284ea"
      },
      "outputs": [
        {
          "data": {
            "application/vnd.google.colaboratory.intrinsic+json": {
              "type": "string"
            },
            "text/plain": [
              "'\\nknn=KNeighborsClassifier(n_neighbors=26)\\nknn.fit(X_train, y_train)\\nknn.score(X_test, y_test) #62.69\\n#1min \\n'"
            ]
          },
          "execution_count": 198,
          "metadata": {},
          "output_type": "execute_result"
        }
      ],
      "source": [
        "\"\"\"\n",
        "knn=KNeighborsClassifier(n_neighbors=26)\n",
        "knn.fit(X_train, y_train)\n",
        "knn.score(X_test, y_test) #62.69\n",
        "#1min \n",
        "\"\"\""
      ]
    },
    {
      "cell_type": "markdown",
      "metadata": {
        "id": "V7ngPbvr_NNd"
      },
      "source": [
        "### SVM"
      ]
    },
    {
      "cell_type": "code",
      "execution_count": null,
      "metadata": {
        "id": "MzJmu7z6_OZL"
      },
      "outputs": [],
      "source": [
        "from sklearn.model_selection import GridSearchCV\n",
        "from sklearn import svm\n",
        "from sklearn.svm import SVC"
      ]
    },
    {
      "cell_type": "code",
      "execution_count": null,
      "metadata": {
        "colab": {
          "base_uri": "https://localhost:8080/"
        },
        "id": "JMrwl5hjV_s4",
        "outputId": "3e3744f1-5159-47d3-cb5b-ee86c2c1f950"
      },
      "outputs": [
        {
          "name": "stderr",
          "output_type": "stream",
          "text": [
            "/usr/local/lib/python3.7/dist-packages/sklearn/svm/_base.py:1208: ConvergenceWarning: Liblinear failed to converge, increase the number of iterations.\n",
            "  ConvergenceWarning,\n"
          ]
        },
        {
          "data": {
            "text/plain": [
              "LinearSVC()"
            ]
          },
          "execution_count": 200,
          "metadata": {},
          "output_type": "execute_result"
        }
      ],
      "source": [
        "\t\t\t \n",
        "from sklearn import svm\n",
        "\n",
        "\n",
        "\t\t\t \n",
        "clf = svm.LinearSVC()\n",
        "\n",
        "clf.fit(X_train, y_train)\n",
        "#9 mins"
      ]
    },
    {
      "cell_type": "code",
      "execution_count": null,
      "metadata": {
        "colab": {
          "base_uri": "https://localhost:8080/"
        },
        "id": "N4NVYu5rWNKj",
        "outputId": "35fd449c-b594-47ed-a3d1-e8a4db5de487"
      },
      "outputs": [
        {
          "data": {
            "text/plain": [
              "0.9623352165725048"
            ]
          },
          "execution_count": 201,
          "metadata": {},
          "output_type": "execute_result"
        }
      ],
      "source": [
        "from sklearn.metrics import accuracy_score\n",
        "accuracy_score(y_test, y_pred)  #95.447 w/o feature selection\n",
        "#95.780 w \n",
        "#best 96.1466 with 0.05 test data"
      ]
    },
    {
      "cell_type": "code",
      "execution_count": null,
      "metadata": {
        "id": "Lg17slva_P_A"
      },
      "outputs": [],
      "source": [
        "#params_grid = [{'kernel': ['rbf'], 'gamma': [1e-3, 1e-4],'C': [1, 10, 100, 1000]}, {'kernel': ['linear'], 'C': [1, 10, 100, 1000]}]"
      ]
    },
    {
      "cell_type": "code",
      "execution_count": null,
      "metadata": {
        "id": "zvMjpK4JRcl8"
      },
      "outputs": [],
      "source": [
        "#model = GridSearchCV(SVC(), params_grid, cv=5)\n",
        "#model.fit(X_train, y_train)"
      ]
    },
    {
      "cell_type": "code",
      "execution_count": null,
      "metadata": {
        "id": "YTTVbsIrRc9p"
      },
      "outputs": [],
      "source": [
        "#model = SVC(C=100, kernel='linear')\n",
        "#model.fit(X_train, y_train)"
      ]
    },
    {
      "cell_type": "code",
      "execution_count": null,
      "metadata": {
        "id": "OEVeygyPRfjw"
      },
      "outputs": [],
      "source": [
        "#from sklearn import metrics\n",
        "#print(\"Accuracy:\",metrics.accuracy_score(y_test, y_pred))"
      ]
    }
  ],
  "metadata": {
    "accelerator": "TPU",
    "colab": {
      "collapsed_sections": [],
      "provenance": []
    },
    "kernelspec": {
      "display_name": "Python 3",
      "name": "python3"
    },
    "language_info": {
      "name": "python"
    }
  },
  "nbformat": 4,
  "nbformat_minor": 0
}